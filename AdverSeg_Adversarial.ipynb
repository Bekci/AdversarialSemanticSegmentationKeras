{
  "nbformat": 4,
  "nbformat_minor": 0,
  "metadata": {
    "accelerator": "GPU",
    "colab": {
      "name": "AdverSeg-Adversarial.ipynb",
      "provenance": [],
      "collapsed_sections": []
    },
    "kernelspec": {
      "display_name": "Python 3",
      "name": "python3"
    }
  },
  "cells": [
    {
      "cell_type": "code",
      "metadata": {
        "id": "6s970qDsK52W"
      },
      "source": [
        "from tensorflow.keras.layers import Input\r\n",
        "from tensorflow.keras.models import Model\r\n",
        "import numpy as np"
      ],
      "execution_count": null,
      "outputs": []
    },
    {
      "cell_type": "code",
      "metadata": {
        "colab": {
          "base_uri": "https://localhost:8080/"
        },
        "id": "Ie83YIz25i0j",
        "outputId": "0669143a-6f64-4fe8-a82e-2095fd64b89e"
      },
      "source": [
        "!bash download_voc.sh"
      ],
      "execution_count": null,
      "outputs": [
        {
          "output_type": "stream",
          "text": [
            "--2021-02-21 14:13:07--  http://www.eecs.berkeley.edu/Research/Projects/CS/vision/grouping/semantic_contours/benchmark.tgz\n",
            "Resolving www.eecs.berkeley.edu (www.eecs.berkeley.edu)... 23.185.0.1, 2620:12a:8000::1, 2620:12a:8001::1\n",
            "Connecting to www.eecs.berkeley.edu (www.eecs.berkeley.edu)|23.185.0.1|:80... connected.\n",
            "HTTP request sent, awaiting response... 301 Moved Permanently\n",
            "Location: https://www.eecs.berkeley.edu/Research/Projects/CS/vision/grouping/semantic_contours/benchmark.tgz [following]\n",
            "--2021-02-21 14:13:07--  https://www.eecs.berkeley.edu/Research/Projects/CS/vision/grouping/semantic_contours/benchmark.tgz\n",
            "Connecting to www.eecs.berkeley.edu (www.eecs.berkeley.edu)|23.185.0.1|:443... connected.\n",
            "HTTP request sent, awaiting response... 301 Moved Permanently\n",
            "Location: https://www2.eecs.berkeley.edu/Research/Projects/CS/vision/grouping/semantic_contours/benchmark.tgz [following]\n",
            "--2021-02-21 14:13:07--  https://www2.eecs.berkeley.edu/Research/Projects/CS/vision/grouping/semantic_contours/benchmark.tgz\n",
            "Resolving www2.eecs.berkeley.edu (www2.eecs.berkeley.edu)... 128.32.244.190\n",
            "Connecting to www2.eecs.berkeley.edu (www2.eecs.berkeley.edu)|128.32.244.190|:443... connected.\n",
            "HTTP request sent, awaiting response... 200 OK\n",
            "Length: 1419539633 (1.3G) [application/x-tar]\n",
            "Saving to: ‘benchmark.tgz’\n",
            "\n",
            "benchmark.tgz       100%[===================>]   1.32G  2.81MB/s    in 8m 53s  \n",
            "\n",
            "2021-02-21 14:22:00 (2.54 MB/s) - ‘benchmark.tgz’ saved [1419539633/1419539633]\n",
            "\n"
          ],
          "name": "stdout"
        }
      ]
    },
    {
      "cell_type": "code",
      "metadata": {
        "id": "CEEqSIE6lp5D",
        "colab": {
          "base_uri": "https://localhost:8080/"
        },
        "outputId": "8445474f-8645-4207-917a-63480a081a86"
      },
      "source": [
        "!wget 'https://raw.githubusercontent.com/bonlime/keras-deeplab-v3-plus/master/extract_weights.py'\r\n",
        "!wget 'https://raw.githubusercontent.com/bonlime/keras-deeplab-v3-plus/master/load_weights.py'\r\n",
        "!wget 'https://raw.githubusercontent.com/bonlime/keras-deeplab-v3-plus/master/model.py'"
      ],
      "execution_count": null,
      "outputs": [
        {
          "output_type": "stream",
          "text": [
            "--2021-02-21 14:22:12--  https://raw.githubusercontent.com/bonlime/keras-deeplab-v3-plus/master/extract_weights.py\n",
            "Resolving raw.githubusercontent.com (raw.githubusercontent.com)... 185.199.108.133, 185.199.109.133, 185.199.110.133, ...\n",
            "Connecting to raw.githubusercontent.com (raw.githubusercontent.com)|185.199.108.133|:443... connected.\n",
            "HTTP request sent, awaiting response... 200 OK\n",
            "Length: 3648 (3.6K) [text/plain]\n",
            "Saving to: ‘extract_weights.py’\n",
            "\n",
            "\rextract_weights.py    0%[                    ]       0  --.-KB/s               \rextract_weights.py  100%[===================>]   3.56K  --.-KB/s    in 0s      \n",
            "\n",
            "2021-02-21 14:22:13 (77.5 MB/s) - ‘extract_weights.py’ saved [3648/3648]\n",
            "\n",
            "--2021-02-21 14:22:13--  https://raw.githubusercontent.com/bonlime/keras-deeplab-v3-plus/master/load_weights.py\n",
            "Resolving raw.githubusercontent.com (raw.githubusercontent.com)... 185.199.108.133, 185.199.109.133, 185.199.110.133, ...\n",
            "Connecting to raw.githubusercontent.com (raw.githubusercontent.com)|185.199.108.133|:443... connected.\n",
            "HTTP request sent, awaiting response... 200 OK\n",
            "Length: 1149 (1.1K) [text/plain]\n",
            "Saving to: ‘load_weights.py’\n",
            "\n",
            "load_weights.py     100%[===================>]   1.12K  --.-KB/s    in 0s      \n",
            "\n",
            "2021-02-21 14:22:13 (63.1 MB/s) - ‘load_weights.py’ saved [1149/1149]\n",
            "\n",
            "--2021-02-21 14:22:13--  https://raw.githubusercontent.com/bonlime/keras-deeplab-v3-plus/master/model.py\n",
            "Resolving raw.githubusercontent.com (raw.githubusercontent.com)... 185.199.111.133, 185.199.109.133, 185.199.108.133, ...\n",
            "Connecting to raw.githubusercontent.com (raw.githubusercontent.com)|185.199.111.133|:443... connected.\n",
            "HTTP request sent, awaiting response... 200 OK\n",
            "Length: 22559 (22K) [text/plain]\n",
            "Saving to: ‘model.py’\n",
            "\n",
            "model.py            100%[===================>]  22.03K  --.-KB/s    in 0.002s  \n",
            "\n",
            "2021-02-21 14:22:13 (12.0 MB/s) - ‘model.py’ saved [22559/22559]\n",
            "\n"
          ],
          "name": "stdout"
        }
      ]
    },
    {
      "cell_type": "code",
      "metadata": {
        "id": "Y1gifJSW7Yf1"
      },
      "source": [
        "from VOCGen import get_voc_datagen\r\n",
        "import matplotlib.pyplot as plt\r\n",
        "import numpy as np\r\n",
        "from tensorflow.keras.optimizers import Adam\r\n",
        "from tensorflow.keras.callbacks import ModelCheckpoint, ReduceLROnPlateau, LambdaCallback\r\n",
        "from tensorflow.keras.losses import categorical_crossentropy\r\n",
        "import tensorflow.keras.backend as K\r\n",
        "from tensorflow.keras.models import load_model\r\n",
        "from tensorflow.keras.metrics import Mean, BinaryAccuracy\r\n",
        "from tensorflow.keras.losses import BinaryCrossentropy\r\n",
        "from gan_model import AdverGAN\r\n",
        "import os\r\n",
        "from metrics import mean_iou"
      ],
      "execution_count": null,
      "outputs": []
    },
    {
      "cell_type": "code",
      "metadata": {
        "id": "CsJEzDHo7ahc"
      },
      "source": [
        "# 20 classes from PASCAL VOC and 1 background\r\n",
        "N_CLASS = 20 + 1 \r\n",
        "BATCH_SIZE = 12\r\n",
        "img_target_size = (320, 320)"
      ],
      "execution_count": null,
      "outputs": []
    },
    {
      "cell_type": "code",
      "metadata": {
        "id": "T62E0EjD7sLB"
      },
      "source": [
        "img_preproc = lambda x: x / 255.\r\n",
        "tr_gen, val_gen = get_voc_datagen(N_CLASS, BATCH_SIZE, img_preproc, None, img_target_size)"
      ],
      "execution_count": null,
      "outputs": []
    },
    {
      "cell_type": "code",
      "metadata": {
        "id": "zckQCoo6Mtys"
      },
      "source": [
        "g_iou_tracker = Mean(name='iou')\r\n",
        "gan_acc_tracker = Mean(name='gan_acc')\r\n",
        "disc_acc_tracker = Mean(name='disc_acc')\r\n",
        "iou_score = mean_iou\r\n",
        "binary_entropy = BinaryCrossentropy()\r\n",
        "gan_acc = BinaryAccuracy()\r\n",
        "disc_acc = BinaryAccuracy()"
      ],
      "execution_count": null,
      "outputs": []
    },
    {
      "cell_type": "code",
      "metadata": {
        "colab": {
          "base_uri": "https://localhost:8080/"
        },
        "id": "wKCEZmVeQzfj",
        "outputId": "e490f336-583f-4455-cc04-d31d70db594e"
      },
      "source": [
        "for x,y in tr_gen:\r\n",
        "  print(x.shape)\r\n",
        "  print(y.shape)\r\n",
        "  break"
      ],
      "execution_count": null,
      "outputs": [
        {
          "output_type": "stream",
          "text": [
            "(12, 320, 320, 3)\n",
            "(12, 320, 320, 21)\n"
          ],
          "name": "stdout"
        }
      ]
    },
    {
      "cell_type": "code",
      "metadata": {
        "id": "LEhs1CxGHEUz",
        "colab": {
          "base_uri": "https://localhost:8080/"
        },
        "outputId": "25d7bc32-0f3a-4ddf-949a-b39d614f4397"
      },
      "source": [
        "gan_model = AdverGAN(1e-2, img_target_size, N_CLASS)\r\n",
        "g_opt = Adam(2.5e-4)\r\n",
        "d_opt = Adam(1e-5)"
      ],
      "execution_count": null,
      "outputs": [
        {
          "output_type": "stream",
          "text": [
            "Downloading data from https://github.com/bonlime/keras-deeplab-v3-plus/releases/download/1.1/deeplabv3_xception_tf_dim_ordering_tf_kernels.h5\n",
            "166100992/166096424 [==============================] - 3s 0us/step\n"
          ],
          "name": "stdout"
        }
      ]
    },
    {
      "cell_type": "code",
      "metadata": {
        "id": "SUDFfa_vktiQ"
      },
      "source": [
        "BEST_VAL_IOU = 0.0\r\n",
        "MODEL_SAVE_DIR = os.path.join('drive', 'MyDrive', 'adverseg_models')\r\n",
        "\r\n",
        "def save_generator_discriminator_on_best(logs):\r\n",
        "  global BEST_VAL_IOU\r\n",
        "  if BEST_VAL_IOU < logs['val_gen_iou']:\r\n",
        "    BEST_VAL_IOU = logs['val_gen_iou']\r\n",
        "    gan_model.save_models(MODEL_SAVE_DIR)\r\n",
        "\r\n",
        "\r\n",
        "saving_model_callback = LambdaCallback(\r\n",
        "    on_epoch_end=lambda epoch, logs: save_generator_discriminator_on_best(logs)\r\n",
        ")"
      ],
      "execution_count": null,
      "outputs": []
    },
    {
      "cell_type": "code",
      "metadata": {
        "id": "Sd2dQo7Hk-18"
      },
      "source": [
        "gan_model.compile(g_opt, d_opt, binary_entropy, gan_acc, disc_acc, categorical_crossentropy, iou_score, g_iou_tracker, gan_acc_tracker, disc_acc_tracker)"
      ],
      "execution_count": null,
      "outputs": []
    },
    {
      "cell_type": "code",
      "metadata": {
        "id": "acJM2Vh-Z_-X",
        "colab": {
          "base_uri": "https://localhost:8080/"
        },
        "outputId": "8f8f3c5c-3786-476b-dc1e-3f9331d2c38e"
      },
      "source": [
        "gan_model.fit(tr_gen, epochs=40, validation_data=val_gen, callbacks=[saving_model_callback])"
      ],
      "execution_count": null,
      "outputs": [
        {
          "output_type": "stream",
          "text": [
            "Epoch 1/40\n",
            "709/709 [==============================] - 1252s 2s/step - disc_fake_loss: 0.6909 - disc_real_loss: 0.6103 - gan_loss: 0.4242 - gen_iou: 0.5719 - g_loss: 0.4166 - disc_acc: 0.5559 - gan_acc: 0.5726 - val_disc_fake_loss: 0.8329 - val_disc_real_loss: 0.5240 - val_gan_loss: 0.0642 - val_gen_iou: 0.5757 - val_g_loss: 0.0584 - val_disc_acc: 0.6515 - val_gan_acc: 0.4562\n",
            "Epoch 2/40\n",
            "709/709 [==============================] - 1238s 2s/step - disc_fake_loss: 0.5019 - disc_real_loss: 0.4166 - gan_loss: 0.3119 - gen_iou: 0.6457 - g_loss: 0.2922 - disc_acc: 0.7065 - gan_acc: 0.4261 - val_disc_fake_loss: 0.6747 - val_disc_real_loss: 0.4355 - val_gan_loss: 0.0727 - val_gen_iou: 0.6537 - val_g_loss: 0.0633 - val_disc_acc: 0.7390 - val_gan_acc: 0.3950\n",
            "Epoch 3/40\n",
            "709/709 [==============================] - 1238s 2s/step - disc_fake_loss: 0.4684 - disc_real_loss: 0.3829 - gan_loss: 0.2720 - gen_iou: 0.6941 - g_loss: 0.2449 - disc_acc: 0.7563 - gan_acc: 0.3783 - val_disc_fake_loss: 0.4784 - val_disc_real_loss: 0.3339 - val_gan_loss: 0.0830 - val_gen_iou: 0.6285 - val_g_loss: 0.0641 - val_disc_acc: 0.7716 - val_gan_acc: 0.3620\n",
            "Epoch 4/40\n",
            "709/709 [==============================] - 1238s 2s/step - disc_fake_loss: 0.4312 - disc_real_loss: 0.3499 - gan_loss: 0.2791 - gen_iou: 0.6985 - g_loss: 0.2450 - disc_acc: 0.7820 - gan_acc: 0.3512 - val_disc_fake_loss: 0.4876 - val_disc_real_loss: 0.3259 - val_gan_loss: 5.0577 - val_gen_iou: 0.5195 - val_g_loss: 5.0397 - val_disc_acc: 0.7919 - val_gan_acc: 0.3382\n",
            "Epoch 5/40\n",
            "709/709 [==============================] - 1238s 2s/step - disc_fake_loss: 0.4123 - disc_real_loss: 0.3435 - gan_loss: 0.2455 - gen_iou: 0.7049 - g_loss: 0.2097 - disc_acc: 0.7991 - gan_acc: 0.3288 - val_disc_fake_loss: 0.5086 - val_disc_real_loss: 0.3406 - val_gan_loss: 0.0757 - val_gen_iou: 0.6570 - val_g_loss: 0.0629 - val_disc_acc: 0.8046 - val_gan_acc: 0.3202\n",
            "Epoch 6/40\n",
            "709/709 [==============================] - 1240s 2s/step - disc_fake_loss: 0.4099 - disc_real_loss: 0.3560 - gan_loss: 0.2102 - gen_iou: 0.7385 - g_loss: 0.1752 - disc_acc: 0.8084 - gan_acc: 0.3137 - val_disc_fake_loss: 0.7516 - val_disc_real_loss: 0.2777 - val_gan_loss: 0.0418 - val_gen_iou: 0.6167 - val_g_loss: 0.0334 - val_disc_acc: 0.8109 - val_gan_acc: 0.3076\n",
            "Epoch 7/40\n",
            "709/709 [==============================] - 1237s 2s/step - disc_fake_loss: 0.3956 - disc_real_loss: 0.3450 - gan_loss: 0.2124 - gen_iou: 0.7484 - g_loss: 0.1743 - disc_acc: 0.8134 - gan_acc: 0.3030 - val_disc_fake_loss: 0.3623 - val_disc_real_loss: 0.3942 - val_gan_loss: 0.0542 - val_gen_iou: 0.6740 - val_g_loss: 0.0369 - val_disc_acc: 0.8147 - val_gan_acc: 0.2940\n",
            "Epoch 8/40\n",
            "709/709 [==============================] - 1239s 2s/step - disc_fake_loss: 0.4038 - disc_real_loss: 0.3601 - gan_loss: 0.1985 - gen_iou: 0.7717 - g_loss: 0.1610 - disc_acc: 0.8148 - gan_acc: 0.2853 - val_disc_fake_loss: 0.3775 - val_disc_real_loss: 0.3020 - val_gan_loss: 0.2865 - val_gen_iou: 0.6448 - val_g_loss: 0.2449 - val_disc_acc: 0.8155 - val_gan_acc: 0.2806\n",
            "Epoch 9/40\n",
            "709/709 [==============================] - 1239s 2s/step - disc_fake_loss: 0.4031 - disc_real_loss: 0.3622 - gan_loss: 0.1865 - gen_iou: 0.7890 - g_loss: 0.1489 - disc_acc: 0.8160 - gan_acc: 0.2768 - val_disc_fake_loss: 0.3967 - val_disc_real_loss: 0.2539 - val_gan_loss: 0.0942 - val_gen_iou: 0.6107 - val_g_loss: 0.0675 - val_disc_acc: 0.8166 - val_gan_acc: 0.2729\n",
            "Epoch 10/40\n",
            "709/709 [==============================] - 1239s 2s/step - disc_fake_loss: 0.3832 - disc_real_loss: 0.3409 - gan_loss: 0.2116 - gen_iou: 0.7498 - g_loss: 0.1679 - disc_acc: 0.8176 - gan_acc: 0.2697 - val_disc_fake_loss: 0.3379 - val_disc_real_loss: 0.3820 - val_gan_loss: 0.0594 - val_gen_iou: 0.6538 - val_g_loss: 0.0333 - val_disc_acc: 0.8186 - val_gan_acc: 0.2662\n",
            "Epoch 11/40\n",
            "709/709 [==============================] - 1239s 2s/step - disc_fake_loss: 0.4086 - disc_real_loss: 0.3776 - gan_loss: 0.1561 - gen_iou: 0.7973 - g_loss: 0.1217 - disc_acc: 0.8183 - gan_acc: 0.2621 - val_disc_fake_loss: 0.3777 - val_disc_real_loss: 0.3673 - val_gan_loss: 0.0603 - val_gen_iou: 0.7010 - val_g_loss: 0.0406 - val_disc_acc: 0.8178 - val_gan_acc: 0.2581\n",
            "Epoch 12/40\n",
            "100/709 [===>..........................] - ETA: 16:32 - disc_fake_loss: 0.4273 - disc_real_loss: 0.4028 - gan_loss: 0.1251 - gen_iou: 0.8506 - g_loss: 0.0961 - disc_acc: 0.8182 - gan_acc: 0.2568"
          ],
          "name": "stdout"
        }
      ]
    }
  ]
}