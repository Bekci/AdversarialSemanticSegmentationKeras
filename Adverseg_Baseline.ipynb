{
  "nbformat": 4,
  "nbformat_minor": 0,
  "metadata": {
    "colab": {
      "name": "Adverseg-Baseline.ipynb",
      "provenance": [],
      "collapsed_sections": []
    },
    "kernelspec": {
      "name": "python3",
      "display_name": "Python 3"
    },
    "accelerator": "GPU"
  },
  "cells": [
    {
      "cell_type": "code",
      "metadata": {
        "colab": {
          "base_uri": "https://localhost:8080/"
        },
        "id": "nfbgeKCPdd_l",
        "outputId": "d2fb47de-4b05-4b70-fc2c-4eaca0362819"
      },
      "source": [
        "!bash download_voc.sh"
      ],
      "execution_count": null,
      "outputs": [
        {
          "output_type": "stream",
          "text": [
            "--2021-02-21 14:12:41--  http://www.eecs.berkeley.edu/Research/Projects/CS/vision/grouping/semantic_contours/benchmark.tgz\n",
            "Resolving www.eecs.berkeley.edu (www.eecs.berkeley.edu)... 23.185.0.1, 2620:12a:8000::1, 2620:12a:8001::1\n",
            "Connecting to www.eecs.berkeley.edu (www.eecs.berkeley.edu)|23.185.0.1|:80... connected.\n",
            "HTTP request sent, awaiting response... 301 Moved Permanently\n",
            "Location: https://www.eecs.berkeley.edu/Research/Projects/CS/vision/grouping/semantic_contours/benchmark.tgz [following]\n",
            "--2021-02-21 14:12:41--  https://www.eecs.berkeley.edu/Research/Projects/CS/vision/grouping/semantic_contours/benchmark.tgz\n",
            "Connecting to www.eecs.berkeley.edu (www.eecs.berkeley.edu)|23.185.0.1|:443... connected.\n",
            "HTTP request sent, awaiting response... 301 Moved Permanently\n",
            "Location: https://www2.eecs.berkeley.edu/Research/Projects/CS/vision/grouping/semantic_contours/benchmark.tgz [following]\n",
            "--2021-02-21 14:12:41--  https://www2.eecs.berkeley.edu/Research/Projects/CS/vision/grouping/semantic_contours/benchmark.tgz\n",
            "Resolving www2.eecs.berkeley.edu (www2.eecs.berkeley.edu)... 128.32.244.190\n",
            "Connecting to www2.eecs.berkeley.edu (www2.eecs.berkeley.edu)|128.32.244.190|:443... connected.\n",
            "HTTP request sent, awaiting response... 200 OK\n",
            "Length: 1419539633 (1.3G) [application/x-tar]\n",
            "Saving to: ‘benchmark.tgz’\n",
            "\n",
            "benchmark.tgz       100%[===================>]   1.32G  5.63MB/s    in 5m 6s   \n",
            "\n",
            "2021-02-21 14:17:47 (4.42 MB/s) - ‘benchmark.tgz’ saved [1419539633/1419539633]\n",
            "\n"
          ],
          "name": "stdout"
        }
      ]
    },
    {
      "cell_type": "code",
      "metadata": {
        "colab": {
          "base_uri": "https://localhost:8080/"
        },
        "id": "1AjyDuITB4zq",
        "outputId": "81690e93-bf04-4c53-f5cf-f820fcdbc2c1"
      },
      "source": [
        "!wget 'https://raw.githubusercontent.com/bonlime/keras-deeplab-v3-plus/master/extract_weights.py'\r\n",
        "!wget 'https://raw.githubusercontent.com/bonlime/keras-deeplab-v3-plus/master/load_weights.py'\r\n",
        "!wget 'https://raw.githubusercontent.com/bonlime/keras-deeplab-v3-plus/master/model.py'"
      ],
      "execution_count": null,
      "outputs": [
        {
          "output_type": "stream",
          "text": [
            "--2021-02-21 14:17:59--  https://raw.githubusercontent.com/bonlime/keras-deeplab-v3-plus/master/extract_weights.py\n",
            "Resolving raw.githubusercontent.com (raw.githubusercontent.com)... 185.199.108.133, 185.199.109.133, 185.199.110.133, ...\n",
            "Connecting to raw.githubusercontent.com (raw.githubusercontent.com)|185.199.108.133|:443... connected.\n",
            "HTTP request sent, awaiting response... 200 OK\n",
            "Length: 3648 (3.6K) [text/plain]\n",
            "Saving to: ‘extract_weights.py’\n",
            "\n",
            "extract_weights.py  100%[===================>]   3.56K  --.-KB/s    in 0s      \n",
            "\n",
            "2021-02-21 14:18:00 (71.0 MB/s) - ‘extract_weights.py’ saved [3648/3648]\n",
            "\n",
            "--2021-02-21 14:18:00--  https://raw.githubusercontent.com/bonlime/keras-deeplab-v3-plus/master/load_weights.py\n",
            "Resolving raw.githubusercontent.com (raw.githubusercontent.com)... 185.199.108.133, 185.199.110.133, 185.199.109.133, ...\n",
            "Connecting to raw.githubusercontent.com (raw.githubusercontent.com)|185.199.108.133|:443... connected.\n",
            "HTTP request sent, awaiting response... 200 OK\n",
            "Length: 1149 (1.1K) [text/plain]\n",
            "Saving to: ‘load_weights.py’\n",
            "\n",
            "load_weights.py     100%[===================>]   1.12K  --.-KB/s    in 0s      \n",
            "\n",
            "2021-02-21 14:18:00 (63.4 MB/s) - ‘load_weights.py’ saved [1149/1149]\n",
            "\n",
            "--2021-02-21 14:18:00--  https://raw.githubusercontent.com/bonlime/keras-deeplab-v3-plus/master/model.py\n",
            "Resolving raw.githubusercontent.com (raw.githubusercontent.com)... 185.199.108.133, 185.199.109.133, 185.199.110.133, ...\n",
            "Connecting to raw.githubusercontent.com (raw.githubusercontent.com)|185.199.108.133|:443... connected.\n",
            "HTTP request sent, awaiting response... 200 OK\n",
            "Length: 22559 (22K) [text/plain]\n",
            "Saving to: ‘model.py’\n",
            "\n",
            "model.py            100%[===================>]  22.03K  --.-KB/s    in 0.001s  \n",
            "\n",
            "2021-02-21 14:18:01 (28.7 MB/s) - ‘model.py’ saved [22559/22559]\n",
            "\n"
          ],
          "name": "stdout"
        }
      ]
    },
    {
      "cell_type": "code",
      "metadata": {
        "id": "YBA1MvUhdiIq"
      },
      "source": [
        "from VOCGen import get_voc_datagen\r\n",
        "import matplotlib.pyplot as plt\r\n",
        "import numpy as np\r\n",
        "from tensorflow.keras.optimizers import Adam\r\n",
        "from tensorflow.keras.callbacks import ModelCheckpoint, ReduceLROnPlateau, LambdaCallback, LearningRateScheduler\r\n",
        "import tensorflow.keras.backend as K\r\n",
        "from tensorflow.keras.models import load_model\r\n",
        "from model import Deeplabv3\r\n",
        "import os\r\n",
        "from metrics import mean_iou"
      ],
      "execution_count": null,
      "outputs": []
    },
    {
      "cell_type": "code",
      "metadata": {
        "id": "nGRoOdaddkVn"
      },
      "source": [
        "# 20 classes from PASCAL VOC and 1 background\r\n",
        "N_CLASS = 20 + 1 \r\n",
        "BATCH_SIZE = 12\r\n",
        "img_target_size = (320, 320)"
      ],
      "execution_count": null,
      "outputs": []
    },
    {
      "cell_type": "code",
      "metadata": {
        "id": "aCmAedn3s147"
      },
      "source": [
        "base_lr = 5e-4\r\n",
        "max_epoch = 50\r\n",
        "power = 0.9\r\n",
        "\r\n",
        "def lr_schedular(epoch, cur_lr):\r\n",
        "  if epoch < 5:\r\n",
        "    return cur_lr\r\n",
        "  return base_lr * ((1 - float(epoch) / max_epoch) ** power)"
      ],
      "execution_count": null,
      "outputs": []
    },
    {
      "cell_type": "code",
      "metadata": {
        "id": "s0jaaSSTdlZ3"
      },
      "source": [
        "img_preproc = lambda x: x / 255.\r\n",
        "tr_gen, val_gen = get_voc_datagen(N_CLASS, BATCH_SIZE, img_preproc, None, img_target_size)"
      ],
      "execution_count": null,
      "outputs": []
    },
    {
      "cell_type": "code",
      "metadata": {
        "id": "yYQnjNBd-1r3",
        "colab": {
          "base_uri": "https://localhost:8080/"
        },
        "outputId": "82b3dcf0-f080-43d0-bd3e-4a8f1acf3362"
      },
      "source": [
        "model = Deeplabv3(input_shape=(img_target_size[0], img_target_size[1], 3), backbone='xception', activation='softmax')"
      ],
      "execution_count": null,
      "outputs": [
        {
          "output_type": "stream",
          "text": [
            "Downloading data from https://github.com/bonlime/keras-deeplab-v3-plus/releases/download/1.1/deeplabv3_xception_tf_dim_ordering_tf_kernels.h5\n",
            "166100992/166096424 [==============================] - 2s 0us/step\n"
          ],
          "name": "stdout"
        }
      ]
    },
    {
      "cell_type": "code",
      "metadata": {
        "id": "1ziWFAOJeCOy"
      },
      "source": [
        "opt = Adam(base_lr)\r\n",
        "model_save_dir = os.path.join('drive', 'MyDrive', 'adverseg_models', 'deeplabv3_xception_320.h5')\r\n",
        "checkpoint = ModelCheckpoint(model_save_dir, verbose=True, save_best_only=True, monitor='val_mean_iou', mode='max')\r\n",
        "scheduleLR = LearningRateScheduler(lr_schedular, verbose=True)\r\n",
        "model.compile(opt, 'categorical_crossentropy', metrics=['accuracy', mean_iou])"
      ],
      "execution_count": null,
      "outputs": []
    },
    {
      "cell_type": "code",
      "metadata": {
        "colab": {
          "base_uri": "https://localhost:8080/"
        },
        "id": "JM3iE_Wsg_k8",
        "outputId": "df200fba-28bb-4f1b-8e05-db5e32523eb6"
      },
      "source": [
        "model.fit(tr_gen, epochs=50, validation_data=val_gen, callbacks=[checkpoint, scheduleLR])"
      ],
      "execution_count": null,
      "outputs": [
        {
          "output_type": "stream",
          "text": [
            "Epoch 1/50\n",
            "\n",
            "Epoch 00001: LearningRateScheduler reducing learning rate to 0.0005000000237487257.\n",
            "709/709 [==============================] - 861s 1s/step - loss: 0.6421 - accuracy: 0.8156 - mean_iou: 0.4418 - val_loss: 0.6697 - val_accuracy: 0.8281 - val_mean_iou: 0.5057\n",
            "\n",
            "Epoch 00001: val_mean_iou improved from -inf to 0.50567, saving model to drive/MyDrive/adverseg_models/deeplabv3_xception_320.h5\n",
            "Epoch 2/50\n",
            "\n",
            "Epoch 00002: LearningRateScheduler reducing learning rate to 0.0005000000237487257.\n",
            "709/709 [==============================] - 858s 1s/step - loss: 0.4567 - accuracy: 0.8602 - mean_iou: 0.5197 - val_loss: 0.4974 - val_accuracy: 0.8489 - val_mean_iou: 0.5588\n",
            "\n",
            "Epoch 00002: val_mean_iou improved from 0.50567 to 0.55879, saving model to drive/MyDrive/adverseg_models/deeplabv3_xception_320.h5\n",
            "Epoch 3/50\n",
            "\n",
            "Epoch 00003: LearningRateScheduler reducing learning rate to 0.0005000000237487257.\n",
            "709/709 [==============================] - 860s 1s/step - loss: 0.3888 - accuracy: 0.8785 - mean_iou: 0.5613 - val_loss: 0.8050 - val_accuracy: 0.8497 - val_mean_iou: 0.5541\n",
            "\n",
            "Epoch 00003: val_mean_iou did not improve from 0.55879\n",
            "Epoch 4/50\n",
            "\n",
            "Epoch 00004: LearningRateScheduler reducing learning rate to 0.0005000000237487257.\n",
            "709/709 [==============================] - 859s 1s/step - loss: 0.3357 - accuracy: 0.8925 - mean_iou: 0.5930 - val_loss: 0.4594 - val_accuracy: 0.8571 - val_mean_iou: 0.5769\n",
            "\n",
            "Epoch 00004: val_mean_iou improved from 0.55879 to 0.57695, saving model to drive/MyDrive/adverseg_models/deeplabv3_xception_320.h5\n",
            "Epoch 5/50\n",
            "\n",
            "Epoch 00005: LearningRateScheduler reducing learning rate to 0.0005000000237487257.\n",
            "709/709 [==============================] - 865s 1s/step - loss: 0.2766 - accuracy: 0.9082 - mean_iou: 0.6350 - val_loss: 0.5553 - val_accuracy: 0.8492 - val_mean_iou: 0.5580\n",
            "\n",
            "Epoch 00005: val_mean_iou did not improve from 0.57695\n",
            "Epoch 6/50\n",
            "\n",
            "Epoch 00006: LearningRateScheduler reducing learning rate to 0.00045476628804148113.\n",
            "709/709 [==============================] - 860s 1s/step - loss: 0.2630 - accuracy: 0.9132 - mean_iou: 0.6528 - val_loss: 0.4675 - val_accuracy: 0.8708 - val_mean_iou: 0.6110\n",
            "\n",
            "Epoch 00006: val_mean_iou improved from 0.57695 to 0.61104, saving model to drive/MyDrive/adverseg_models/deeplabv3_xception_320.h5\n",
            "Epoch 7/50\n",
            "\n",
            "Epoch 00007: LearningRateScheduler reducing learning rate to 0.00044566077304449995.\n",
            "709/709 [==============================] - 858s 1s/step - loss: 0.2153 - accuracy: 0.9271 - mean_iou: 0.6928 - val_loss: 0.4607 - val_accuracy: 0.8729 - val_mean_iou: 0.6119\n",
            "\n",
            "Epoch 00007: val_mean_iou improved from 0.61104 to 0.61188, saving model to drive/MyDrive/adverseg_models/deeplabv3_xception_320.h5\n",
            "Epoch 8/50\n",
            "\n",
            "Epoch 00008: LearningRateScheduler reducing learning rate to 0.000436534538285843.\n",
            "709/709 [==============================] - 872s 1s/step - loss: 0.1761 - accuracy: 0.9397 - mean_iou: 0.7175 - val_loss: 0.5209 - val_accuracy: 0.8726 - val_mean_iou: 0.5950\n",
            "\n",
            "Epoch 00008: val_mean_iou did not improve from 0.61188\n",
            "Epoch 9/50\n",
            "\n",
            "Epoch 00009: LearningRateScheduler reducing learning rate to 0.00042738705301356716.\n",
            "709/709 [==============================] - 887s 1s/step - loss: 0.1759 - accuracy: 0.9392 - mean_iou: 0.7101 - val_loss: 3.8205 - val_accuracy: 0.7922 - val_mean_iou: 0.4931\n",
            "\n",
            "Epoch 00009: val_mean_iou did not improve from 0.61188\n",
            "Epoch 10/50\n",
            "\n",
            "Epoch 00010: LearningRateScheduler reducing learning rate to 0.00041821775989926696.\n",
            "709/709 [==============================] - 887s 1s/step - loss: 0.1939 - accuracy: 0.9340 - mean_iou: 0.6950 - val_loss: 0.4796 - val_accuracy: 0.8679 - val_mean_iou: 0.6121\n",
            "\n",
            "Epoch 00010: val_mean_iou improved from 0.61188 to 0.61208, saving model to drive/MyDrive/adverseg_models/deeplabv3_xception_320.h5\n",
            "Epoch 11/50\n",
            "\n",
            "Epoch 00011: LearningRateScheduler reducing learning rate to 0.00040902607302542923.\n",
            "709/709 [==============================] - 886s 1s/step - loss: 0.1430 - accuracy: 0.9499 - mean_iou: 0.7579 - val_loss: 0.4209 - val_accuracy: 0.8842 - val_mean_iou: 0.6459\n",
            "\n",
            "Epoch 00011: val_mean_iou improved from 0.61208 to 0.64587, saving model to drive/MyDrive/adverseg_models/deeplabv3_xception_320.h5\n",
            "Epoch 12/50\n",
            "\n",
            "Epoch 00012: LearningRateScheduler reducing learning rate to 0.0003998113756661346.\n",
            "709/709 [==============================] - 890s 1s/step - loss: 0.1189 - accuracy: 0.9577 - mean_iou: 0.7921 - val_loss: 0.3981 - val_accuracy: 0.8946 - val_mean_iou: 0.6694\n",
            "\n",
            "Epoch 00012: val_mean_iou improved from 0.64587 to 0.66945, saving model to drive/MyDrive/adverseg_models/deeplabv3_xception_320.h5\n",
            "Epoch 13/50\n",
            "\n",
            "Epoch 00013: LearningRateScheduler reducing learning rate to 0.0003905730178340304.\n",
            "709/709 [==============================] - 888s 1s/step - loss: 0.1110 - accuracy: 0.9603 - mean_iou: 0.8067 - val_loss: 0.6297 - val_accuracy: 0.8663 - val_mean_iou: 0.6297\n",
            "\n",
            "Epoch 00013: val_mean_iou did not improve from 0.66945\n",
            "Epoch 14/50\n",
            "\n",
            "Epoch 00014: LearningRateScheduler reducing learning rate to 0.0003813103135621442.\n",
            "709/709 [==============================] - 887s 1s/step - loss: 0.1241 - accuracy: 0.9549 - mean_iou: 0.7800 - val_loss: 0.4746 - val_accuracy: 0.8805 - val_mean_iou: 0.6180\n",
            "\n",
            "Epoch 00014: val_mean_iou did not improve from 0.66945\n",
            "Epoch 15/50\n",
            "\n",
            "Epoch 00015: LearningRateScheduler reducing learning rate to 0.0003720225378839164.\n",
            "709/709 [==============================] - 886s 1s/step - loss: 0.1025 - accuracy: 0.9628 - mean_iou: 0.8061 - val_loss: 0.4130 - val_accuracy: 0.8944 - val_mean_iou: 0.6519\n",
            "\n",
            "Epoch 00015: val_mean_iou did not improve from 0.66945\n",
            "Epoch 16/50\n",
            "\n",
            "Epoch 00016: LearningRateScheduler reducing learning rate to 0.00036270892346860996.\n",
            "537/709 [=====================>........] - ETA: 3:16 - loss: 0.0838 - accuracy: 0.9690 - mean_iou: 0.8479"
          ],
          "name": "stdout"
        }
      ]
    }
  ]
}