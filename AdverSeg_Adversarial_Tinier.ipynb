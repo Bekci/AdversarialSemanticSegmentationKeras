{
  "nbformat": 4,
  "nbformat_minor": 0,
  "metadata": {
    "accelerator": "GPU",
    "colab": {
      "name": "AdverSeg-Adversarial.ipynb",
      "provenance": [],
      "collapsed_sections": []
    },
    "kernelspec": {
      "display_name": "Python 3",
      "name": "python3"
    }
  },
  "cells": [
    {
      "cell_type": "code",
      "metadata": {
        "id": "6s970qDsK52W"
      },
      "source": [
        "from tensorflow.keras.layers import Input\n",
        "from tensorflow.keras.models import Model\n",
        "import numpy as np"
      ],
      "execution_count": 1,
      "outputs": []
    },
    {
      "cell_type": "code",
      "metadata": {
        "colab": {
          "base_uri": "https://localhost:8080/"
        },
        "id": "Ie83YIz25i0j",
        "outputId": "cea0872f-5ca3-4a62-e18b-c20384325a86"
      },
      "source": [
        "!bash download_voc.sh"
      ],
      "execution_count": 2,
      "outputs": [
        {
          "output_type": "stream",
          "text": [
            "--2021-04-04 11:03:01--  http://www.eecs.berkeley.edu/Research/Projects/CS/vision/grouping/semantic_contours/benchmark.tgz\n",
            "Resolving www.eecs.berkeley.edu (www.eecs.berkeley.edu)... 23.185.0.1, 2620:12a:8001::1, 2620:12a:8000::1\n",
            "Connecting to www.eecs.berkeley.edu (www.eecs.berkeley.edu)|23.185.0.1|:80... connected.\n",
            "HTTP request sent, awaiting response... 301 Moved Permanently\n",
            "Location: https://www.eecs.berkeley.edu/Research/Projects/CS/vision/grouping/semantic_contours/benchmark.tgz [following]\n",
            "--2021-04-04 11:03:01--  https://www.eecs.berkeley.edu/Research/Projects/CS/vision/grouping/semantic_contours/benchmark.tgz\n",
            "Connecting to www.eecs.berkeley.edu (www.eecs.berkeley.edu)|23.185.0.1|:443... connected.\n",
            "HTTP request sent, awaiting response... 301 Moved Permanently\n",
            "Location: https://www2.eecs.berkeley.edu/Research/Projects/CS/vision/grouping/semantic_contours/benchmark.tgz [following]\n",
            "--2021-04-04 11:03:01--  https://www2.eecs.berkeley.edu/Research/Projects/CS/vision/grouping/semantic_contours/benchmark.tgz\n",
            "Resolving www2.eecs.berkeley.edu (www2.eecs.berkeley.edu)... 128.32.244.190\n",
            "Connecting to www2.eecs.berkeley.edu (www2.eecs.berkeley.edu)|128.32.244.190|:443... connected.\n",
            "HTTP request sent, awaiting response... 200 OK\n",
            "Length: 1419539633 (1.3G) [application/x-tar]\n",
            "Saving to: ‘benchmark.tgz’\n",
            "\n",
            "benchmark.tgz       100%[===================>]   1.32G  4.68MB/s    in 4m 19s  \n",
            "\n",
            "2021-04-04 11:07:21 (5.23 MB/s) - ‘benchmark.tgz’ saved [1419539633/1419539633]\n",
            "\n"
          ],
          "name": "stdout"
        }
      ]
    },
    {
      "cell_type": "code",
      "metadata": {
        "id": "CEEqSIE6lp5D",
        "colab": {
          "base_uri": "https://localhost:8080/"
        },
        "outputId": "ff7a9615-0cab-470c-bcb9-22a1ce2d9ed3"
      },
      "source": [
        "!wget 'https://raw.githubusercontent.com/bonlime/keras-deeplab-v3-plus/master/extract_weights.py'\n",
        "!wget 'https://raw.githubusercontent.com/bonlime/keras-deeplab-v3-plus/master/load_weights.py'\n",
        "!wget 'https://raw.githubusercontent.com/bonlime/keras-deeplab-v3-plus/master/model.py'"
      ],
      "execution_count": 4,
      "outputs": [
        {
          "output_type": "stream",
          "text": [
            "--2021-04-04 11:08:22--  https://raw.githubusercontent.com/bonlime/keras-deeplab-v3-plus/master/extract_weights.py\n",
            "Resolving raw.githubusercontent.com (raw.githubusercontent.com)... 185.199.108.133, 185.199.109.133, 185.199.110.133, ...\n",
            "Connecting to raw.githubusercontent.com (raw.githubusercontent.com)|185.199.108.133|:443... connected.\n",
            "HTTP request sent, awaiting response... 200 OK\n",
            "Length: 3648 (3.6K) [text/plain]\n",
            "Saving to: ‘extract_weights.py.1’\n",
            "\n",
            "\rextract_weights.py.   0%[                    ]       0  --.-KB/s               \rextract_weights.py. 100%[===================>]   3.56K  --.-KB/s    in 0s      \n",
            "\n",
            "2021-04-04 11:08:22 (63.3 MB/s) - ‘extract_weights.py.1’ saved [3648/3648]\n",
            "\n",
            "--2021-04-04 11:08:22--  https://raw.githubusercontent.com/bonlime/keras-deeplab-v3-plus/master/load_weights.py\n",
            "Resolving raw.githubusercontent.com (raw.githubusercontent.com)... 185.199.108.133, 185.199.109.133, 185.199.110.133, ...\n",
            "Connecting to raw.githubusercontent.com (raw.githubusercontent.com)|185.199.108.133|:443... connected.\n",
            "HTTP request sent, awaiting response... 200 OK\n",
            "Length: 1149 (1.1K) [text/plain]\n",
            "Saving to: ‘load_weights.py.1’\n",
            "\n",
            "load_weights.py.1   100%[===================>]   1.12K  --.-KB/s    in 0s      \n",
            "\n",
            "2021-04-04 11:08:22 (77.0 MB/s) - ‘load_weights.py.1’ saved [1149/1149]\n",
            "\n",
            "--2021-04-04 11:08:22--  https://raw.githubusercontent.com/bonlime/keras-deeplab-v3-plus/master/model.py\n",
            "Resolving raw.githubusercontent.com (raw.githubusercontent.com)... 185.199.108.133, 185.199.109.133, 185.199.110.133, ...\n",
            "Connecting to raw.githubusercontent.com (raw.githubusercontent.com)|185.199.108.133|:443... connected.\n",
            "HTTP request sent, awaiting response... 200 OK\n",
            "Length: 22559 (22K) [text/plain]\n",
            "Saving to: ‘model.py.1’\n",
            "\n",
            "model.py.1          100%[===================>]  22.03K  --.-KB/s    in 0.002s  \n",
            "\n",
            "2021-04-04 11:08:22 (12.4 MB/s) - ‘model.py.1’ saved [22559/22559]\n",
            "\n"
          ],
          "name": "stdout"
        }
      ]
    },
    {
      "cell_type": "code",
      "metadata": {
        "id": "Y1gifJSW7Yf1"
      },
      "source": [
        "from VOCGen import get_voc_datagen\n",
        "import matplotlib.pyplot as plt\n",
        "import numpy as np\n",
        "from tensorflow.keras.optimizers import Adam\n",
        "from tensorflow.keras.callbacks import ModelCheckpoint, ReduceLROnPlateau, LambdaCallback\n",
        "from tensorflow.keras.losses import categorical_crossentropy\n",
        "import tensorflow.keras.backend as K\n",
        "from tensorflow.keras.models import load_model\n",
        "from tensorflow.keras.metrics import Mean, BinaryAccuracy\n",
        "from tensorflow.keras.losses import BinaryCrossentropy\n",
        "from gan_model import AdverGAN\n",
        "import os\n",
        "from metrics import mean_iou"
      ],
      "execution_count": 5,
      "outputs": []
    },
    {
      "cell_type": "code",
      "metadata": {
        "id": "CsJEzDHo7ahc"
      },
      "source": [
        "# 20 classes from PASCAL VOC and 1 background\n",
        "N_CLASS = 20 + 1 \n",
        "BATCH_SIZE = 12\n",
        "img_target_size = (320, 320)"
      ],
      "execution_count": 6,
      "outputs": []
    },
    {
      "cell_type": "code",
      "metadata": {
        "id": "T62E0EjD7sLB"
      },
      "source": [
        "img_preproc = lambda x: x / 255.\n",
        "tr_gen, val_gen = get_voc_datagen(N_CLASS, BATCH_SIZE, img_preproc, None, img_target_size)"
      ],
      "execution_count": 7,
      "outputs": []
    },
    {
      "cell_type": "code",
      "metadata": {
        "id": "zckQCoo6Mtys"
      },
      "source": [
        "g_iou_tracker = Mean(name='iou')\n",
        "gan_acc_tracker = Mean(name='gan_acc')\n",
        "disc_acc_tracker = Mean(name='disc_acc')\n",
        "iou_score = mean_iou\n",
        "binary_entropy = BinaryCrossentropy()\n",
        "gan_acc = BinaryAccuracy()\n",
        "disc_acc = BinaryAccuracy()"
      ],
      "execution_count": 8,
      "outputs": []
    },
    {
      "cell_type": "code",
      "metadata": {
        "colab": {
          "base_uri": "https://localhost:8080/"
        },
        "id": "wKCEZmVeQzfj",
        "outputId": "1924a37c-ef7d-408d-8a71-f6d992376f6b"
      },
      "source": [
        "for x,y in tr_gen:\n",
        "  print(x.shape)\n",
        "  print(y.shape)\n",
        "  break"
      ],
      "execution_count": 9,
      "outputs": [
        {
          "output_type": "stream",
          "text": [
            "(12, 320, 320, 3)\n",
            "(12, 320, 320, 21)\n"
          ],
          "name": "stdout"
        }
      ]
    },
    {
      "cell_type": "code",
      "metadata": {
        "id": "LEhs1CxGHEUz",
        "colab": {
          "base_uri": "https://localhost:8080/"
        },
        "outputId": "21e2f3a5-cc61-4310-9db0-2cb787bdd625"
      },
      "source": [
        "gan_model = AdverGAN(1e-2, img_target_size, N_CLASS)\n",
        "g_opt = Adam(2.5e-4)\n",
        "d_opt = Adam(1e-5)"
      ],
      "execution_count": 10,
      "outputs": [
        {
          "output_type": "stream",
          "text": [
            "Downloading data from https://github.com/bonlime/keras-deeplab-v3-plus/releases/download/1.1/deeplabv3_xception_tf_dim_ordering_tf_kernels.h5\n",
            "166100992/166096424 [==============================] - 2s 0us/step\n"
          ],
          "name": "stdout"
        }
      ]
    },
    {
      "cell_type": "code",
      "metadata": {
        "id": "SUDFfa_vktiQ"
      },
      "source": [
        "BEST_VAL_IOU = 0.0\n",
        "MODEL_SAVE_DIR = os.path.join('drive', 'MyDrive')\n",
        "\n",
        "def save_generator_discriminator_on_best(logs):\n",
        "  global BEST_VAL_IOU\n",
        "  if BEST_VAL_IOU < logs['val_gen_iou']:\n",
        "    BEST_VAL_IOU = logs['val_gen_iou']\n",
        "    gan_model.save_models(MODEL_SAVE_DIR)\n",
        "\n",
        "\n",
        "saving_model_callback = LambdaCallback(\n",
        "    on_epoch_end=lambda epoch, logs: save_generator_discriminator_on_best(logs)\n",
        ")"
      ],
      "execution_count": 11,
      "outputs": []
    },
    {
      "cell_type": "code",
      "metadata": {
        "id": "Sd2dQo7Hk-18"
      },
      "source": [
        "gan_model.compile(g_opt, d_opt, binary_entropy, gan_acc, disc_acc, categorical_crossentropy, iou_score, g_iou_tracker, gan_acc_tracker, disc_acc_tracker)"
      ],
      "execution_count": 12,
      "outputs": []
    },
    {
      "cell_type": "code",
      "metadata": {
        "id": "acJM2Vh-Z_-X",
        "colab": {
          "base_uri": "https://localhost:8080/"
        },
        "outputId": "d6527409-f6bf-4e0f-bf4c-1f4345b352a8"
      },
      "source": [
        "gan_model.fit(tr_gen, epochs=40, validation_data=val_gen, callbacks=[saving_model_callback])"
      ],
      "execution_count": null,
      "outputs": [
        {
          "output_type": "stream",
          "text": [
            "Epoch 1/40\n",
            "709/709 [==============================] - 850s 1s/step - disc_fake_loss: 0.7084 - disc_real_loss: 0.6596 - gan_loss: 0.4213 - gen_iou: 0.5678 - g_loss: 0.4145 - disc_acc: 0.5468 - gan_acc: 0.5667 - val_disc_fake_loss: 0.7364 - val_disc_real_loss: 0.6499 - val_gan_loss: 0.0470 - val_gen_iou: 0.6211 - val_g_loss: 0.0404 - val_disc_acc: 0.6006 - val_gan_acc: 0.6424\n",
            "Epoch 2/40\n",
            "709/709 [==============================] - 825s 1s/step - disc_fake_loss: 0.6822 - disc_real_loss: 0.6357 - gan_loss: 0.3036 - gen_iou: 0.6583 - g_loss: 0.2964 - disc_acc: 0.6243 - gan_acc: 0.6420 - val_disc_fake_loss: 0.6961 - val_disc_real_loss: 0.6216 - val_gan_loss: 0.0921 - val_gen_iou: 0.6383 - val_g_loss: 0.0851 - val_disc_acc: 0.6478 - val_gan_acc: 0.6206\n",
            "Epoch 3/40\n",
            "709/709 [==============================] - 824s 1s/step - disc_fake_loss: 0.6484 - disc_real_loss: 0.6150 - gan_loss: 0.2401 - gen_iou: 0.6856 - g_loss: 0.2321 - disc_acc: 0.6576 - gan_acc: 0.6130 - val_disc_fake_loss: 0.7326 - val_disc_real_loss: 0.5983 - val_gan_loss: 0.0657 - val_gen_iou: 0.6393 - val_g_loss: 0.0589 - val_disc_acc: 0.6609 - val_gan_acc: 0.6080\n",
            "Epoch 4/40\n",
            "709/709 [==============================] - 824s 1s/step - disc_fake_loss: 0.6248 - disc_real_loss: 0.5872 - gan_loss: 0.2455 - gen_iou: 0.6906 - g_loss: 0.2364 - disc_acc: 0.6630 - gan_acc: 0.6056 - val_disc_fake_loss: 0.7261 - val_disc_real_loss: 0.5710 - val_gan_loss: 0.0646 - val_gen_iou: 0.6425 - val_g_loss: 0.0575 - val_disc_acc: 0.6674 - val_gan_acc: 0.6012\n",
            "Epoch 5/40\n",
            "709/709 [==============================] - 824s 1s/step - disc_fake_loss: 0.6208 - disc_real_loss: 0.5775 - gan_loss: 0.2245 - gen_iou: 0.7132 - g_loss: 0.2146 - disc_acc: 0.6689 - gan_acc: 0.5992 - val_disc_fake_loss: 0.6909 - val_disc_real_loss: 0.5749 - val_gan_loss: 0.0618 - val_gen_iou: 0.6453 - val_g_loss: 0.0540 - val_disc_acc: 0.6702 - val_gan_acc: 0.5968\n",
            "Epoch 6/40\n",
            "709/709 [==============================] - 824s 1s/step - disc_fake_loss: 0.6242 - disc_real_loss: 0.5783 - gan_loss: 0.1887 - gen_iou: 0.7247 - g_loss: 0.1787 - disc_acc: 0.6705 - gan_acc: 0.5969 - val_disc_fake_loss: 0.7504 - val_disc_real_loss: 0.5848 - val_gan_loss: 0.0374 - val_gen_iou: 0.6536 - val_g_loss: 0.0307 - val_disc_acc: 0.6703 - val_gan_acc: 0.5972\n",
            "Epoch 7/40\n",
            "709/709 [==============================] - 824s 1s/step - disc_fake_loss: 0.6341 - disc_real_loss: 0.5936 - gan_loss: 0.1520 - gen_iou: 0.7702 - g_loss: 0.1422 - disc_acc: 0.6690 - gan_acc: 0.5990 - val_disc_fake_loss: 0.7123 - val_disc_real_loss: 0.5886 - val_gan_loss: 0.0499 - val_gen_iou: 0.6756 - val_g_loss: 0.0425 - val_disc_acc: 0.6675 - val_gan_acc: 0.6010\n",
            "Epoch 8/40\n",
            "709/709 [==============================] - 824s 1s/step - disc_fake_loss: 0.6354 - disc_real_loss: 0.5955 - gan_loss: 0.1430 - gen_iou: 0.7808 - g_loss: 0.1331 - disc_acc: 0.6661 - gan_acc: 0.6032 - val_disc_fake_loss: 0.7013 - val_disc_real_loss: 0.5972 - val_gan_loss: 0.0386 - val_gen_iou: 0.6670 - val_g_loss: 0.0310 - val_disc_acc: 0.6648 - val_gan_acc: 0.6051\n",
            "Epoch 9/40\n",
            "709/709 [==============================] - 824s 1s/step - disc_fake_loss: 0.6144 - disc_real_loss: 0.5649 - gan_loss: 0.2005 - gen_iou: 0.7515 - g_loss: 0.1889 - disc_acc: 0.6646 - gan_acc: 0.6054 - val_disc_fake_loss: 0.7213 - val_disc_real_loss: 0.5554 - val_gan_loss: 0.0623 - val_gen_iou: 0.6649 - val_g_loss: 0.0546 - val_disc_acc: 0.6661 - val_gan_acc: 0.6033\n",
            "Epoch 10/40\n",
            "709/709 [==============================] - 824s 1s/step - disc_fake_loss: 0.6162 - disc_real_loss: 0.5671 - gan_loss: 0.1695 - gen_iou: 0.7561 - g_loss: 0.1582 - disc_acc: 0.6667 - gan_acc: 0.6033 - val_disc_fake_loss: 0.6886 - val_disc_real_loss: 0.5545 - val_gan_loss: 0.0705 - val_gen_iou: 0.6436 - val_g_loss: 0.0620 - val_disc_acc: 0.6673 - val_gan_acc: 0.6031\n",
            "Epoch 11/40\n",
            "709/709 [==============================] - 824s 1s/step - disc_fake_loss: 0.6325 - disc_real_loss: 0.5870 - gan_loss: 0.1294 - gen_iou: 0.7845 - g_loss: 0.1189 - disc_acc: 0.6672 - gan_acc: 0.6039 - val_disc_fake_loss: 0.6706 - val_disc_real_loss: 0.5999 - val_gan_loss: 0.0423 - val_gen_iou: 0.6970 - val_g_loss: 0.0342 - val_disc_acc: 0.6662 - val_gan_acc: 0.6057\n",
            "Epoch 12/40\n",
            "709/709 [==============================] - 825s 1s/step - disc_fake_loss: 0.6400 - disc_real_loss: 0.6017 - gan_loss: 0.1055 - gen_iou: 0.8417 - g_loss: 0.0957 - disc_acc: 0.6650 - gan_acc: 0.6079 - val_disc_fake_loss: 0.6749 - val_disc_real_loss: 0.6159 - val_gan_loss: 0.0478 - val_gen_iou: 0.7106 - val_g_loss: 0.0397 - val_disc_acc: 0.6635 - val_gan_acc: 0.6104\n",
            "Epoch 13/40\n",
            "709/709 [==============================] - 824s 1s/step - disc_fake_loss: 0.6389 - disc_real_loss: 0.6022 - gan_loss: 0.1086 - gen_iou: 0.8536 - g_loss: 0.0987 - disc_acc: 0.6620 - gan_acc: 0.6130 - val_disc_fake_loss: 0.6919 - val_disc_real_loss: 0.6002 - val_gan_loss: 0.0354 - val_gen_iou: 0.6745 - val_g_loss: 0.0277 - val_disc_acc: 0.6613 - val_gan_acc: 0.6147\n",
            "Epoch 14/40\n",
            "709/709 [==============================] - 824s 1s/step - disc_fake_loss: 0.6078 - disc_real_loss: 0.5562 - gan_loss: 0.1754 - gen_iou: 0.7948 - g_loss: 0.1632 - disc_acc: 0.6612 - gan_acc: 0.6152 - val_disc_fake_loss: 0.7303 - val_disc_real_loss: 0.5510 - val_gan_loss: 0.0390 - val_gen_iou: 0.6295 - val_g_loss: 0.0316 - val_disc_acc: 0.6627 - val_gan_acc: 0.6139\n",
            "Epoch 15/40\n",
            "709/709 [==============================] - 824s 1s/step - disc_fake_loss: 0.6167 - disc_real_loss: 0.5668 - gan_loss: 0.1504 - gen_iou: 0.7578 - g_loss: 0.1384 - disc_acc: 0.6633 - gan_acc: 0.6131 - val_disc_fake_loss: 0.6853 - val_disc_real_loss: 0.5600 - val_gan_loss: 0.0693 - val_gen_iou: 0.6370 - val_g_loss: 0.0606 - val_disc_acc: 0.6639 - val_gan_acc: 0.6126\n",
            "Epoch 16/40\n",
            "709/709 [==============================] - 825s 1s/step - disc_fake_loss: 0.6362 - disc_real_loss: 0.5960 - gan_loss: 0.0983 - gen_iou: 0.8394 - g_loss: 0.0882 - disc_acc: 0.6637 - gan_acc: 0.6134 - val_disc_fake_loss: 0.6959 - val_disc_real_loss: 0.6052 - val_gan_loss: 0.0351 - val_gen_iou: 0.7019 - val_g_loss: 0.0276 - val_disc_acc: 0.6629 - val_gan_acc: 0.6151\n",
            "Epoch 17/40\n",
            "709/709 [==============================] - ETA: 0s - disc_fake_loss: 0.6423 - disc_real_loss: 0.6077 - gan_loss: 0.0851 - gen_iou: 0.8724 - g_loss: 0.0754 - disc_acc: 0.6621 - gan_acc: 0.6170"
          ],
          "name": "stdout"
        }
      ]
    }
  ]
}